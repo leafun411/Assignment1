{
 "cells": [
  {
   "cell_type": "code",
   "execution_count": null,
   "id": "a424b804-c194-443d-aabf-27b3eddfb712",
   "metadata": {
    "tags": []
   },
   "outputs": [],
   "source": []
  },
  {
   "cell_type": "markdown",
   "id": "281eb127-5d25-48c6-bdc5-4762500324ee",
   "metadata": {
    "tags": []
   },
   "source": [
    "# Data Science Tools and Ecosystem"
   ]
  },
  {
   "cell_type": "markdown",
   "id": "4791d7cd-c5b3-4b97-87a0-f062e69c5cec",
   "metadata": {},
   "source": [
    "In this notebook, Data Science Tools and Ecosystem are summarized."
   ]
  },
  {
   "cell_type": "markdown",
   "id": "7491dceb-283c-4313-a585-e49976bb9c52",
   "metadata": {},
   "source": [
    "**Objectives:**"
   ]
  },
  {
   "cell_type": "markdown",
   "id": "0fd2799b-f097-4cec-9a13-89fd7aba32a3",
   "metadata": {},
   "source": [
    "- List popular languages for Data Science\n",
    "- List common libraries used for Data Science\n",
    "- Introduce Data Science tools"
   ]
  },
  {
   "cell_type": "markdown",
   "id": "23810fcc-ee23-452d-b502-e540cf2874f6",
   "metadata": {},
   "source": [
    "Some of the popular languages that Data Scientists use are:"
   ]
  },
  {
   "cell_type": "markdown",
   "id": "7243bb0c-abe3-45c7-a1e1-075f83155c12",
   "metadata": {},
   "source": [
    "1. Python\n",
    "2. R\n",
    "3. SQL"
   ]
  },
  {
   "cell_type": "markdown",
   "id": "38bb8244-72d8-424d-93f5-4b789749e377",
   "metadata": {},
   "source": [
    "Some of the commonly used libraries used by Data Scientists include:"
   ]
  },
  {
   "cell_type": "markdown",
   "id": "71434c27-3cf2-4ec6-bb08-5964d464bf7c",
   "metadata": {},
   "source": [
    "1. Pandas\n",
    "2. NumPy\n",
    "3. Matplotlib"
   ]
  },
  {
   "cell_type": "markdown",
   "id": "db6644d0-c773-46d8-a948-e05dd3d5cc15",
   "metadata": {
    "tags": []
   },
   "source": [
    "|Data Science Tools|\n",
    "|-------------------|\n",
    "|GitHub|\n",
    "|MySQL|\n",
    "|Hue|"
   ]
  },
  {
   "cell_type": "markdown",
   "id": "ad69674a-5fba-4fe5-a61d-24e865f24d72",
   "metadata": {},
   "source": [
    "### Below are a few examples of evaluating arithmetic expressions in Python"
   ]
  },
  {
   "cell_type": "code",
   "execution_count": 8,
   "id": "711a81b7-f2a2-41c9-a184-3c6ab56f129b",
   "metadata": {
    "tags": []
   },
   "outputs": [],
   "source": [
    "#This is a simple arithmetic expression to multiply then add integers"
   ]
  },
  {
   "cell_type": "code",
   "execution_count": 9,
   "id": "42cb0f9b-291a-4d9c-8ef0-daee7a07a587",
   "metadata": {
    "tags": []
   },
   "outputs": [
    {
     "data": {
      "text/plain": [
       "17"
      ]
     },
     "execution_count": 9,
     "metadata": {},
     "output_type": "execute_result"
    }
   ],
   "source": [
    "(3*4)+5"
   ]
  },
  {
   "cell_type": "code",
   "execution_count": null,
   "id": "866c3a89-2b2c-4ca1-9942-c913727e58ce",
   "metadata": {},
   "outputs": [],
   "source": []
  },
  {
   "cell_type": "code",
   "execution_count": null,
   "id": "70a7dbbe-30de-423b-b6ab-4441bd8dabbe",
   "metadata": {},
   "outputs": [],
   "source": [
    "#This will convert 200 minutes to hours by dividing 60"
   ]
  },
  {
   "cell_type": "code",
   "execution_count": 10,
   "id": "d54d9ca4-57a2-4ac3-8e25-61cf94a6df22",
   "metadata": {
    "tags": []
   },
   "outputs": [
    {
     "data": {
      "text/plain": [
       "3.3333333333333335"
      ]
     },
     "execution_count": 10,
     "metadata": {},
     "output_type": "execute_result"
    }
   ],
   "source": [
    "200/60"
   ]
  },
  {
   "cell_type": "code",
   "execution_count": null,
   "id": "9812e0d1-a8e1-4834-b862-17533d400901",
   "metadata": {},
   "outputs": [],
   "source": []
  }
 ],
 "metadata": {
  "kernelspec": {
   "display_name": "Python",
   "language": "python",
   "name": "conda-env-python-py"
  },
  "language_info": {
   "codemirror_mode": {
    "name": "ipython",
    "version": 3
   },
   "file_extension": ".py",
   "mimetype": "text/x-python",
   "name": "python",
   "nbconvert_exporter": "python",
   "pygments_lexer": "ipython3",
   "version": "3.7.12"
  }
 },
 "nbformat": 4,
 "nbformat_minor": 5
}
